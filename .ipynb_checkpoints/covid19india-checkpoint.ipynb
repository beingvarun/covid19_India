{
 "cells": [
  {
   "cell_type": "markdown",
   "metadata": {},
   "source": [
    "covid 19 india"
   ]
  },
  {
   "cell_type": "code",
   "execution_count": 1,
   "metadata": {},
   "outputs": [],
   "source": [
    "import pandas as pd\n",
    "import json\n",
    "import numpy as np"
   ]
  },
  {
   "cell_type": "code",
   "execution_count": 2,
   "metadata": {},
   "outputs": [],
   "source": [
    "covid19india = pd.read_json('https://api.covid19india.org/raw_data6.json')"
   ]
  },
  {
   "cell_type": "code",
   "execution_count": 3,
   "metadata": {},
   "outputs": [],
   "source": [
    "data = covid19india['raw_data']\n"
   ]
  },
  {
   "cell_type": "code",
   "execution_count": 4,
   "metadata": {},
   "outputs": [
    {
     "data": {
      "text/plain": [
       "dict_keys(['agebracket', 'contractedfromwhichpatientsuspected', 'currentstatus', 'dateannounced', 'detectedcity', 'detecteddistrict', 'detectedstate', 'entryid', 'gender', 'nationality', 'notes', 'numcases', 'patientnumber', 'source1', 'source2', 'source3', 'statecode', 'statepatientnumber', 'statuschangedate', 'typeoftransmission'])"
      ]
     },
     "execution_count": 4,
     "metadata": {},
     "output_type": "execute_result"
    }
   ],
   "source": [
    "data.iloc[0].keys()"
   ]
  },
  {
   "cell_type": "code",
   "execution_count": 5,
   "metadata": {},
   "outputs": [
    {
     "name": "stdout",
     "output_type": "stream",
     "text": [
      "['agebracket', 'contractedfromwhichpatientsuspected', 'currentstatus', 'dateannounced', 'detectedcity', 'detecteddistrict', 'detectedstate', 'entryid', 'gender', 'nationality', 'notes', 'numcases', 'patientnumber', 'source1', 'source2', 'source3', 'statecode', 'statepatientnumber', 'statuschangedate', 'typeoftransmission']\n"
     ]
    }
   ],
   "source": [
    "cols = []\n",
    "for i in data.iloc[0].keys():\n",
    "    cols.append(i)\n",
    "\n",
    "print(cols)"
   ]
  },
  {
   "cell_type": "code",
   "execution_count": 6,
   "metadata": {},
   "outputs": [
    {
     "name": "stdout",
     "output_type": "stream",
     "text": [
      "['', '', 'Hospitalized', '05/06/2020', '', 'Lunglei', 'Mizoram', '48613', '', '', 'Institutional quarantine at Lunglei', '1', '78000', 'https://twitter.com/dipr_mizoram/status/1268736125104910336', '', '', 'MZ', '', '', '']\n"
     ]
    }
   ],
   "source": [
    "vals = []\n",
    "for j in data.iloc[0].values():\n",
    "    vals.append(j)\n",
    "\n",
    "print(vals)"
   ]
  },
  {
   "cell_type": "code",
   "execution_count": 7,
   "metadata": {},
   "outputs": [],
   "source": [
    "data1=pd.DataFrame([vals], columns=cols)"
   ]
  },
  {
   "cell_type": "code",
   "execution_count": 8,
   "metadata": {},
   "outputs": [
    {
     "name": "stdout",
     "output_type": "stream",
     "text": [
      "['agebracket', 'contractedfromwhichpatientsuspected', 'currentstatus', 'dateannounced', 'detectedcity', 'detecteddistrict', 'detectedstate', 'entryid', 'gender', 'nationality', 'notes', 'numcases', 'patientnumber', 'source1', 'source2', 'source3', 'statecode', 'statepatientnumber', 'statuschangedate', 'typeoftransmission']\n"
     ]
    }
   ],
   "source": [
    "cols = []\n",
    "for i in data.iloc[1].keys():\n",
    "    cols.append(i)\n",
    "\n",
    "print(cols)"
   ]
  },
  {
   "cell_type": "code",
   "execution_count": 9,
   "metadata": {},
   "outputs": [],
   "source": [
    "vals = []\n",
    "for j in data.iloc[1].values():\n",
    "    if(j == ''):\n",
    "        j= np.nan\n",
    "    else:\n",
    "        j=j\n",
    "    vals.append(j)"
   ]
  },
  {
   "cell_type": "code",
   "execution_count": 10,
   "metadata": {},
   "outputs": [
    {
     "name": "stdout",
     "output_type": "stream",
     "text": [
      "   agebracket  contractedfromwhichpatientsuspected currentstatus  \\\n",
      "0         NaN                                  NaN  Hospitalized   \n",
      "\n",
      "  dateannounced detectedcity detecteddistrict detectedstate entryid  gender  \\\n",
      "0    05/06/2020      Falkawn           Aizawl       Mizoram   48614     NaN   \n",
      "\n",
      "   nationality notes numcases patientnumber  \\\n",
      "0          NaN   ZMC        4         78001   \n",
      "\n",
      "                                             source1  source2  source3  \\\n",
      "0  https://twitter.com/dipr_mizoram/status/126873...      NaN      NaN   \n",
      "\n",
      "  statecode  statepatientnumber  statuschangedate  typeoftransmission  \n",
      "0        MZ                 NaN               NaN                 NaN  \n"
     ]
    }
   ],
   "source": [
    "data2 = pd.DataFrame([vals], columns=cols)\n",
    "print(data2)"
   ]
  },
  {
   "cell_type": "code",
   "execution_count": 11,
   "metadata": {},
   "outputs": [
    {
     "name": "stdout",
     "output_type": "stream",
     "text": [
      "0\n",
      "0\n"
     ]
    }
   ],
   "source": [
    "first_check = pd.concat([data1, data2])\n",
    "for i in first_check.index:\n",
    "    print(i)\n",
    "    "
   ]
  },
  {
   "cell_type": "code",
   "execution_count": 12,
   "metadata": {},
   "outputs": [
    {
     "data": {
      "text/html": [
       "<div>\n",
       "<style scoped>\n",
       "    .dataframe tbody tr th:only-of-type {\n",
       "        vertical-align: middle;\n",
       "    }\n",
       "\n",
       "    .dataframe tbody tr th {\n",
       "        vertical-align: top;\n",
       "    }\n",
       "\n",
       "    .dataframe thead th {\n",
       "        text-align: right;\n",
       "    }\n",
       "</style>\n",
       "<table border=\"1\" class=\"dataframe\">\n",
       "  <thead>\n",
       "    <tr style=\"text-align: right;\">\n",
       "      <th></th>\n",
       "      <th>index</th>\n",
       "      <th>agebracket</th>\n",
       "      <th>contractedfromwhichpatientsuspected</th>\n",
       "      <th>currentstatus</th>\n",
       "      <th>dateannounced</th>\n",
       "      <th>detectedcity</th>\n",
       "      <th>detecteddistrict</th>\n",
       "      <th>detectedstate</th>\n",
       "      <th>entryid</th>\n",
       "      <th>gender</th>\n",
       "      <th>...</th>\n",
       "      <th>notes</th>\n",
       "      <th>numcases</th>\n",
       "      <th>patientnumber</th>\n",
       "      <th>source1</th>\n",
       "      <th>source2</th>\n",
       "      <th>source3</th>\n",
       "      <th>statecode</th>\n",
       "      <th>statepatientnumber</th>\n",
       "      <th>statuschangedate</th>\n",
       "      <th>typeoftransmission</th>\n",
       "    </tr>\n",
       "  </thead>\n",
       "  <tbody>\n",
       "    <tr>\n",
       "      <th>0</th>\n",
       "      <td>0</td>\n",
       "      <td></td>\n",
       "      <td></td>\n",
       "      <td>Hospitalized</td>\n",
       "      <td>05/06/2020</td>\n",
       "      <td></td>\n",
       "      <td>Lunglei</td>\n",
       "      <td>Mizoram</td>\n",
       "      <td>48613</td>\n",
       "      <td></td>\n",
       "      <td>...</td>\n",
       "      <td>Institutional quarantine at Lunglei</td>\n",
       "      <td>1</td>\n",
       "      <td>78000</td>\n",
       "      <td>https://twitter.com/dipr_mizoram/status/126873...</td>\n",
       "      <td></td>\n",
       "      <td></td>\n",
       "      <td>MZ</td>\n",
       "      <td></td>\n",
       "      <td></td>\n",
       "      <td></td>\n",
       "    </tr>\n",
       "    <tr>\n",
       "      <th>1</th>\n",
       "      <td>0</td>\n",
       "      <td>NaN</td>\n",
       "      <td>NaN</td>\n",
       "      <td>Hospitalized</td>\n",
       "      <td>05/06/2020</td>\n",
       "      <td>Falkawn</td>\n",
       "      <td>Aizawl</td>\n",
       "      <td>Mizoram</td>\n",
       "      <td>48614</td>\n",
       "      <td>NaN</td>\n",
       "      <td>...</td>\n",
       "      <td>ZMC</td>\n",
       "      <td>4</td>\n",
       "      <td>78001</td>\n",
       "      <td>https://twitter.com/dipr_mizoram/status/126873...</td>\n",
       "      <td>NaN</td>\n",
       "      <td>NaN</td>\n",
       "      <td>MZ</td>\n",
       "      <td>NaN</td>\n",
       "      <td>NaN</td>\n",
       "      <td>NaN</td>\n",
       "    </tr>\n",
       "  </tbody>\n",
       "</table>\n",
       "<p>2 rows × 21 columns</p>\n",
       "</div>"
      ],
      "text/plain": [
       "   index agebracket contractedfromwhichpatientsuspected currentstatus  \\\n",
       "0      0                                                 Hospitalized   \n",
       "1      0        NaN                                 NaN  Hospitalized   \n",
       "\n",
       "  dateannounced detectedcity detecteddistrict detectedstate entryid gender  \\\n",
       "0    05/06/2020                       Lunglei       Mizoram   48613          \n",
       "1    05/06/2020      Falkawn           Aizawl       Mizoram   48614    NaN   \n",
       "\n",
       "   ...                                notes numcases patientnumber  \\\n",
       "0  ...  Institutional quarantine at Lunglei        1         78000   \n",
       "1  ...                                  ZMC        4         78001   \n",
       "\n",
       "                                             source1 source2 source3  \\\n",
       "0  https://twitter.com/dipr_mizoram/status/126873...                   \n",
       "1  https://twitter.com/dipr_mizoram/status/126873...     NaN     NaN   \n",
       "\n",
       "  statecode statepatientnumber statuschangedate typeoftransmission  \n",
       "0        MZ                                                         \n",
       "1        MZ                NaN              NaN                NaN  \n",
       "\n",
       "[2 rows x 21 columns]"
      ]
     },
     "execution_count": 12,
     "metadata": {},
     "output_type": "execute_result"
    }
   ],
   "source": [
    "first_check.reset_index(inplace=True)\n",
    "first_check "
   ]
  },
  {
   "cell_type": "code",
   "execution_count": 13,
   "metadata": {},
   "outputs": [
    {
     "data": {
      "text/html": [
       "<div>\n",
       "<style scoped>\n",
       "    .dataframe tbody tr th:only-of-type {\n",
       "        vertical-align: middle;\n",
       "    }\n",
       "\n",
       "    .dataframe tbody tr th {\n",
       "        vertical-align: top;\n",
       "    }\n",
       "\n",
       "    .dataframe thead th {\n",
       "        text-align: right;\n",
       "    }\n",
       "</style>\n",
       "<table border=\"1\" class=\"dataframe\">\n",
       "  <thead>\n",
       "    <tr style=\"text-align: right;\">\n",
       "      <th></th>\n",
       "      <th>agebracket</th>\n",
       "      <th>contractedfromwhichpatientsuspected</th>\n",
       "      <th>currentstatus</th>\n",
       "      <th>dateannounced</th>\n",
       "      <th>detectedcity</th>\n",
       "      <th>detecteddistrict</th>\n",
       "      <th>detectedstate</th>\n",
       "      <th>entryid</th>\n",
       "      <th>gender</th>\n",
       "      <th>nationality</th>\n",
       "      <th>notes</th>\n",
       "      <th>numcases</th>\n",
       "      <th>patientnumber</th>\n",
       "      <th>source1</th>\n",
       "      <th>source2</th>\n",
       "      <th>source3</th>\n",
       "      <th>statecode</th>\n",
       "      <th>statepatientnumber</th>\n",
       "      <th>statuschangedate</th>\n",
       "      <th>typeoftransmission</th>\n",
       "    </tr>\n",
       "  </thead>\n",
       "  <tbody>\n",
       "    <tr>\n",
       "      <th>0</th>\n",
       "      <td></td>\n",
       "      <td></td>\n",
       "      <td>Hospitalized</td>\n",
       "      <td>05/06/2020</td>\n",
       "      <td></td>\n",
       "      <td>Lunglei</td>\n",
       "      <td>Mizoram</td>\n",
       "      <td>48613</td>\n",
       "      <td></td>\n",
       "      <td></td>\n",
       "      <td>Institutional quarantine at Lunglei</td>\n",
       "      <td>1</td>\n",
       "      <td>78000</td>\n",
       "      <td>https://twitter.com/dipr_mizoram/status/126873...</td>\n",
       "      <td></td>\n",
       "      <td></td>\n",
       "      <td>MZ</td>\n",
       "      <td></td>\n",
       "      <td></td>\n",
       "      <td></td>\n",
       "    </tr>\n",
       "    <tr>\n",
       "      <th>1</th>\n",
       "      <td>NaN</td>\n",
       "      <td>NaN</td>\n",
       "      <td>Hospitalized</td>\n",
       "      <td>05/06/2020</td>\n",
       "      <td>Falkawn</td>\n",
       "      <td>Aizawl</td>\n",
       "      <td>Mizoram</td>\n",
       "      <td>48614</td>\n",
       "      <td>NaN</td>\n",
       "      <td>NaN</td>\n",
       "      <td>ZMC</td>\n",
       "      <td>4</td>\n",
       "      <td>78001</td>\n",
       "      <td>https://twitter.com/dipr_mizoram/status/126873...</td>\n",
       "      <td>NaN</td>\n",
       "      <td>NaN</td>\n",
       "      <td>MZ</td>\n",
       "      <td>NaN</td>\n",
       "      <td>NaN</td>\n",
       "      <td>NaN</td>\n",
       "    </tr>\n",
       "  </tbody>\n",
       "</table>\n",
       "</div>"
      ],
      "text/plain": [
       "  agebracket contractedfromwhichpatientsuspected currentstatus dateannounced  \\\n",
       "0                                                 Hospitalized    05/06/2020   \n",
       "1        NaN                                 NaN  Hospitalized    05/06/2020   \n",
       "\n",
       "  detectedcity detecteddistrict detectedstate entryid gender nationality  \\\n",
       "0                       Lunglei       Mizoram   48613                      \n",
       "1      Falkawn           Aizawl       Mizoram   48614    NaN         NaN   \n",
       "\n",
       "                                 notes numcases patientnumber  \\\n",
       "0  Institutional quarantine at Lunglei        1         78000   \n",
       "1                                  ZMC        4         78001   \n",
       "\n",
       "                                             source1 source2 source3  \\\n",
       "0  https://twitter.com/dipr_mizoram/status/126873...                   \n",
       "1  https://twitter.com/dipr_mizoram/status/126873...     NaN     NaN   \n",
       "\n",
       "  statecode statepatientnumber statuschangedate typeoftransmission  \n",
       "0        MZ                                                         \n",
       "1        MZ                NaN              NaN                NaN  "
      ]
     },
     "execution_count": 13,
     "metadata": {},
     "output_type": "execute_result"
    }
   ],
   "source": [
    "df= first_check.drop(['index'], axis=1)\n",
    "df"
   ]
  },
  {
   "cell_type": "code",
   "execution_count": 28,
   "metadata": {},
   "outputs": [],
   "source": [
    "def clean_data(data):\n",
    "    list_df = []\n",
    "    for i in data.index:\n",
    "        strip_data = data.iloc[i]\n",
    "        col = []\n",
    "        val = []\n",
    "        for i in strip_data.keys():\n",
    "            col.append(strip_data)\n",
    "        for vals in strip_data.values():\n",
    "            val.append(vals)\n",
    "        new_data = pd.DataFrame([val], columns= cols)\n",
    "        \n",
    "    "
   ]
  },
  {
   "cell_type": "code",
   "execution_count": 29,
   "metadata": {},
   "outputs": [
    {
     "name": "stdout",
     "output_type": "stream",
     "text": [
      "<class 'pandas.core.frame.DataFrame'>\n",
      "<class 'pandas.core.frame.DataFrame'>\n",
      "<class 'pandas.core.frame.DataFrame'>\n",
      "<class 'pandas.core.frame.DataFrame'>\n"
     ]
    }
   ],
   "source": [
    "test_data = data.head(n=4)\n",
    "clean_data(test_data)"
   ]
  },
  {
   "cell_type": "code",
   "execution_count": 63,
   "metadata": {},
   "outputs": [
    {
     "data": {
      "text/plain": [
       "21"
      ]
     },
     "execution_count": 63,
     "metadata": {},
     "output_type": "execute_result"
    }
   ],
   "source": [
    "len(covid_india.columns)"
   ]
  },
  {
   "cell_type": "code",
   "execution_count": null,
   "metadata": {},
   "outputs": [],
   "source": []
  }
 ],
 "metadata": {
  "kernelspec": {
   "display_name": "Python 3",
   "language": "python",
   "name": "python3"
  },
  "language_info": {
   "codemirror_mode": {
    "name": "ipython",
    "version": 3
   },
   "file_extension": ".py",
   "mimetype": "text/x-python",
   "name": "python",
   "nbconvert_exporter": "python",
   "pygments_lexer": "ipython3",
   "version": "3.7.6"
  }
 },
 "nbformat": 4,
 "nbformat_minor": 4
}
